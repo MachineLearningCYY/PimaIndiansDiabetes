{
 "cells": [
  {
   "cell_type": "code",
   "execution_count": 1,
   "metadata": {
    "collapsed": true
   },
   "outputs": [],
   "source": [
    "import pandas\n",
    "import matplotlib.pyplot as plt\n",
    "from pandas.plotting import scatter_matrix\n",
    "from sklearn.preprocessing import StandardScaler\n",
    "from sklearn.preprocessing import normalize\n",
    "import numpy\n",
    "from sklearn.model_selection import KFold\n",
    "from sklearn.model_selection import cross_val_score\n",
    "from sklearn.linear_model import LogisticRegression\n",
    "from sklearn.neighbors import KNeighborsRegressor\n",
    "from sklearn.discriminant_analysis import LinearDiscriminantAnalysis\n",
    "from sklearn.linear_model import Ridge\n",
    "from sklearn.model_selection import GridSearchCV\n",
    "from sklearn.ensemble import RandomForestClassifier"
   ]
  },
  {
   "cell_type": "code",
   "execution_count": 2,
   "metadata": {},
   "outputs": [],
   "source": [
    "isDebug = True"
   ]
  },
  {
   "cell_type": "code",
   "execution_count": 3,
   "metadata": {},
   "outputs": [],
   "source": [
    "# Load data from csv\n",
    "data_path = './data/pima-indians-diabetes.data'\n",
    "names = ['preg', 'plas', 'pres', 'skin', 'test', 'mass', 'pedi', 'age', 'class']\n",
    "data = pandas.read_csv(data_path, names=names)"
   ]
  },
  {
   "cell_type": "code",
   "execution_count": 5,
   "metadata": {
    "collapsed": true
   },
   "outputs": [
    {
     "name": "stdout",
     "output_type": "stream",
     "text": [
      "   preg  plas  pres  skin  test  mass   pedi  age  class\n0     6   148    72    35     0  33.6  0.627   50      1\n1     1    85    66    29     0  26.6  0.351   31      0\n2     8   183    64     0     0  23.3  0.672   32      1\n3     1    89    66    23    94  28.1  0.167   21      0\n4     0   137    40    35   168  43.1  2.288   33      1\n(768, 9)\npreg       int64\nplas       int64\npres       int64\nskin       int64\ntest       int64\nmass     float64\npedi     float64\nage        int64\nclass      int64\ndtype: object\n             preg        plas        pres        skin        test        mass  \\\ncount  768.000000  768.000000  768.000000  768.000000  768.000000  768.000000   \nmean     3.845052  120.894531   69.105469   20.536458   79.799479   31.992578   \nstd      3.369578   31.972618   19.355807   15.952218  115.244002    7.884160   \nmin      0.000000    0.000000    0.000000    0.000000    0.000000    0.000000   \n25%      1.000000   99.000000   62.000000    0.000000    0.000000   27.300000   \n50%      3.000000  117.000000   72.000000   23.000000   30.500000   32.000000   \n75%      6.000000  140.250000   80.000000   32.000000  127.250000   36.600000   \nmax     17.000000  199.000000  122.000000   99.000000  846.000000   67.100000   \n\n             pedi         age       class  \ncount  768.000000  768.000000  768.000000  \nmean     0.471876   33.240885    0.348958  \nstd      0.331329   11.760232    0.476951  \nmin      0.078000   21.000000    0.000000  \n25%      0.243750   24.000000    0.000000  \n50%      0.372500   29.000000    0.000000  \n75%      0.626250   41.000000    1.000000  \nmax      2.420000   81.000000    1.000000  \n           preg      plas      pres      skin      test      mass      pedi  \\\npreg   1.000000  0.129459  0.141282 -0.081672 -0.073535  0.017683 -0.033523   \nplas   0.129459  1.000000  0.152590  0.057328  0.331357  0.221071  0.137337   \npres   0.141282  0.152590  1.000000  0.207371  0.088933  0.281805  0.041265   \nskin  -0.081672  0.057328  0.207371  1.000000  0.436783  0.392573  0.183928   \ntest  -0.073535  0.331357  0.088933  0.436783  1.000000  0.197859  0.185071   \nmass   0.017683  0.221071  0.281805  0.392573  0.197859  1.000000  0.140647   \npedi  -0.033523  0.137337  0.041265  0.183928  0.185071  0.140647  1.000000   \nage    0.544341  0.263514  0.239528 -0.113970 -0.042163  0.036242  0.033561   \nclass  0.221898  0.466581  0.065068  0.074752  0.130548  0.292695  0.173844   \n\n            age     class  \npreg   0.544341  0.221898  \nplas   0.263514  0.466581  \npres   0.239528  0.065068  \nskin  -0.113970  0.074752  \ntest  -0.042163  0.130548  \nmass   0.036242  0.292695  \npedi   0.033561  0.173844  \nage    1.000000  0.238356  \nclass  0.238356  1.000000  \n"
     ]
    }
   ],
   "source": [
    "# Understand data with descriptive statistics\n",
    "if isDebug:\n",
    "    # Understand your data using the head() function to look at the first few rows.\n",
    "    print(data.head())\n",
    "    # Review the dimensions of your data with the shape property.\n",
    "    print(data.shape)\n",
    "    # Look at the data types for each attribute with the dtypes property.\n",
    "    print(data.dtypes)\n",
    "    # Review the distribution of your data with the describe() function.\n",
    "    print(data.describe())\n",
    "    # Calculate pairwise correlation between your variables using the corr() function.\n",
    "    print(data.corr())"
   ]
  },
  {
   "cell_type": "code",
   "execution_count": 32,
   "metadata": {
    "collapsed": false
   },
   "outputs": [],
   "source": [
    "# Understand data with visualization \n",
    "scatter_matrix(data)\n",
    "plt.hist(data['Age'])\n",
    "plt.show()"
   ]
  },
  {
   "cell_type": "code",
   "execution_count": 40,
   "metadata": {
    "collapsed": true
   },
   "outputs": [],
   "source": [
    "# Prepare For Modeling by Pre-Processing Data\n",
    "array = data.values\n",
    "# Separate array into input ant output components\n",
    "X = array[:, 0:8]\n",
    "Y = array[:, 8]"
   ]
  },
  {
   "cell_type": "code",
   "execution_count": 42,
   "metadata": {},
   "outputs": [
    {
     "name": "stdout",
     "output_type": "stream",
     "text": [
      "Accuracy: 77.092% (2.973%)\n"
     ]
    }
   ],
   "source": [
    "# Pipeline makes it easier to compose estimators, providing this behavior under cross-validation\n",
    "from sklearn.pipeline import make_pipeline\n",
    "from sklearn import preprocessing\n",
    "from sklearn.model_selection import StratifiedKFold\n",
    "skf = StratifiedKFold(n_splits=10, random_state=7, shuffle=True)\n",
    "\n",
    "# Stratified k-fold\n",
    "model = LogisticRegression()\n",
    "logisticRegressionModel = make_pipeline(preprocessing.StandardScaler(), model)\n",
    "results = cross_val_score(logisticRegressionModel, X, Y, cv=skf)\n",
    "print(\"Accuracy: %.3f%% (%.3f%%)\") % (results.mean()*100.0, results.std()*100.0)"
   ]
  },
  {
   "cell_type": "code",
   "execution_count": 43,
   "metadata": {},
   "outputs": [
    {
     "name": "stdout",
     "output_type": "stream",
     "text": [
      "[[442  58]\n [118 150]]\n"
     ]
    }
   ],
   "source": [
    "# Confusion matrix \n",
    "from sklearn.model_selection import cross_val_predict\n",
    "from sklearn.metrics import confusion_matrix\n",
    "y_pred = cross_val_predict(logisticRegressionModel, X, Y, cv=skf)\n",
    "conf_mat = confusion_matrix(Y, y_pred)\n",
    "print(conf_mat)"
   ]
  },
  {
   "cell_type": "code",
   "execution_count": 44,
   "metadata": {},
   "outputs": [
    {
     "name": "stdout",
     "output_type": "stream",
     "text": [
      "             precision    recall  f1-score   support\n\n        0.0       0.79      0.88      0.83       500\n        1.0       0.72      0.56      0.63       268\n\navg / total       0.77      0.77      0.76       768\n\n"
     ]
    }
   ],
   "source": [
    "# Classification report \n",
    "from sklearn.metrics import classification_report\n",
    "target_names = ['class 0', 'class 1']\n",
    "report = classification_report(Y,y_pred)\n",
    "print(report)"
   ]
  },
  {
   "cell_type": "code",
   "execution_count": 64,
   "metadata": {},
   "outputs": [
    {
     "name": "stdout",
     "output_type": "stream",
     "text": [
      "Logloss: -0.493 (0.047)\nLogloss: -0.484 (0.061)\n"
     ]
    }
   ],
   "source": [
    "# Algorithm Evaluation Metrics\n",
    "scoring = 'neg_log_loss'\n",
    "results = cross_val_score(model, X, Y, cv=kfold, scoring=scoring)\n",
    "print(\"Logloss: %.3f (%.3f)\") % (results.mean(), results.std())\n",
    "results = cross_val_score(model, rescaledX, Y, cv=kfold, scoring=scoring)\n",
    "print(\"Logloss: %.3f (%.3f)\") % (results.mean(), results.std())"
   ]
  },
  {
   "cell_type": "code",
   "execution_count": 67,
   "metadata": {},
   "outputs": [
    {
     "name": "stdout",
     "output_type": "stream",
     "text": [
      "-0.196342447027\n-0.178674641148\n"
     ]
    }
   ],
   "source": [
    "# Spot-Check Algorithms\n",
    "model = KNeighborsRegressor()\n",
    "scoring = 'neg_mean_squared_error'\n",
    "results = cross_val_score(model, X, Y, cv=kfold, scoring=scoring)\n",
    "print(results.mean())\n",
    "results = cross_val_score(model, rescaledX, Y, cv=kfold, scoring=scoring)\n",
    "print(results.mean())"
   ]
  },
  {
   "cell_type": "code",
   "execution_count": 73,
   "metadata": {},
   "outputs": [
    {
     "name": "stdout",
     "output_type": "stream",
     "text": [
      "LR: 0.769515 (0.048411)\nLDA: 0.773462 (0.051592)\n"
     ]
    }
   ],
   "source": [
    "# Model comparison and selection \n",
    "# prepare models\n",
    "models = []\n",
    "models.append(('LR', LogisticRegression()))\n",
    "models.append(('LDA', LinearDiscriminantAnalysis()))\n",
    "# evaluate each model in turn\n",
    "results = []\n",
    "names = []\n",
    "scoring = 'accuracy'\n",
    "for name, model in models:\n",
    "\tkfold = KFold(n_splits=10, random_state=7)\n",
    "\tcv_results = cross_val_score(model, X, Y, cv=kfold, scoring=scoring)\n",
    "\tresults.append(cv_results)\n",
    "\tnames.append(name)\n",
    "\tmsg = \"%s: %f (%f)\" % (name, cv_results.mean(), cv_results.std())\n",
    "\tprint(msg)"
   ]
  },
  {
   "cell_type": "code",
   "execution_count": 74,
   "metadata": {},
   "outputs": [
    {
     "name": "stdout",
     "output_type": "stream",
     "text": [
      "LR: 0.779956 (0.050088)\nLDA: 0.773462 (0.051592)\n"
     ]
    }
   ],
   "source": [
    "# Model comparison and selection \n",
    "# prepare models\n",
    "models = []\n",
    "models.append(('LR', LogisticRegression()))\n",
    "models.append(('LDA', LinearDiscriminantAnalysis()))\n",
    "# evaluate each model in turn\n",
    "results = []\n",
    "names = []\n",
    "scoring = 'accuracy'\n",
    "for name, model in models:\n",
    "\tkfold = KFold(n_splits=10, random_state=7)\n",
    "\tcv_results = cross_val_score(model, rescaledX, Y, cv=kfold, scoring=scoring)\n",
    "\tresults.append(cv_results)\n",
    "\tnames.append(name)\n",
    "\tmsg = \"%s: %f (%f)\" % (name, cv_results.mean(), cv_results.std())\n",
    "\tprint(msg)"
   ]
  },
  {
   "cell_type": "code",
   "execution_count": 76,
   "metadata": {},
   "outputs": [
    {
     "name": "stdout",
     "output_type": "stream",
     "text": [
      "0.279617559313\n1.0\n"
     ]
    }
   ],
   "source": [
    "# Improve Accuracy with Algorithm Tuning \n",
    "alphas = numpy.array([1,0.1,0.01,0.001,0.0001,0])\n",
    "param_grid = dict(alpha=alphas)\n",
    "model = Ridge()\n",
    "grid = GridSearchCV(estimator=model, param_grid=param_grid)\n",
    "grid.fit(X, Y)\n",
    "print(grid.best_score_)\n",
    "print(grid.best_estimator_.alpha)"
   ]
  },
  {
   "cell_type": "code",
   "execution_count": 78,
   "metadata": {},
   "outputs": [
    {
     "name": "stdout",
     "output_type": "stream",
     "text": [
      "0.765516062884\n"
     ]
    }
   ],
   "source": [
    "# Improve Accuracy with Ensemble Predictions\n",
    "num_trees = 100\n",
    "max_features = 3\n",
    "kfold = KFold(n_splits=10, random_state=7)\n",
    "model = RandomForestClassifier(n_estimators=num_trees, max_features=max_features)\n",
    "results = cross_val_score(model, X, Y, cv=kfold)\n",
    "print(results.mean())"
   ]
  },
  {
   "cell_type": "code",
   "execution_count": null,
   "metadata": {},
   "outputs": [],
   "source": [
    "# Finalize And Save Your Model"
   ]
  }
 ],
 "metadata": {
  "kernelspec": {
   "display_name": "Python 2",
   "language": "python",
   "name": "python2"
  },
  "language_info": {
   "codemirror_mode": {
    "name": "ipython",
    "version": 2.0
   },
   "file_extension": ".py",
   "mimetype": "text/x-python",
   "name": "python",
   "nbconvert_exporter": "python",
   "pygments_lexer": "ipython2",
   "version": "2.7.13"
  }
 },
 "nbformat": 4,
 "nbformat_minor": 0
}