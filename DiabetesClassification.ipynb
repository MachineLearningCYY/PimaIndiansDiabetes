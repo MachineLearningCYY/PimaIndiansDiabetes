{
 "cells": [
  {
   "cell_type": "code",
   "execution_count": 77,
   "metadata": {
    "collapsed": true
   },
   "outputs": [],
   "source": [
    "import pandas\n",
    "import matplotlib.pyplot as plt\n",
    "from pandas.plotting import scatter_matrix\n",
    "from sklearn.preprocessing import StandardScaler\n",
    "from sklearn.preprocessing import normalize\n",
    "import numpy\n",
    "from sklearn.model_selection import KFold\n",
    "from sklearn.model_selection import cross_val_score\n",
    "from sklearn.linear_model import LogisticRegression\n",
    "from sklearn.neighbors import KNeighborsRegressor\n",
    "from sklearn.discriminant_analysis import LinearDiscriminantAnalysis\n",
    "from sklearn.linear_model import Ridge\n",
    "from sklearn.model_selection import GridSearchCV\n",
    "from sklearn.ensemble import RandomForestClassifier"
   ]
  },
  {
   "cell_type": "code",
   "execution_count": 14,
   "metadata": {},
   "outputs": [],
   "source": [
    "isDebug = True"
   ]
  },
  {
   "cell_type": "code",
   "execution_count": 48,
   "metadata": {},
   "outputs": [],
   "source": [
    "# Load data from csv\n",
    "data_path = './data/pima-indians-diabetes.data'\n",
    "names = ['preg', 'plas', 'pres', 'skin', 'test', 'mass', 'pedi', 'age', 'class']\n",
    "data = pandas.read_csv(data_path, names=names)"
   ]
  },
  {
   "cell_type": "code",
   "execution_count": 20,
   "metadata": {
    "collapsed": true
   },
   "outputs": [
    {
     "name": "stdout",
     "output_type": "stream",
     "text": [
      "   PregnantTimes  PlasmaGlucoseConcentration  BloodPressure  \\\n0              6                         148             72   \n1              1                          85             66   \n2              8                         183             64   \n3              1                          89             66   \n4              0                         137             40   \n\n   TricepsSkinFoldThickness  SerumInsulin  BodyMassIndex  DiabetesPedigree  \\\n0                        35             0           33.6             0.627   \n1                        29             0           26.6             0.351   \n2                         0             0           23.3             0.672   \n3                        23            94           28.1             0.167   \n4                        35           168           43.1             2.288   \n\n   Age  Class  \n0   50      1  \n1   31      0  \n2   32      1  \n3   21      0  \n4   33      1  \n(768, 9)\nPregnantTimes                   int64\nPlasmaGlucoseConcentration      int64\nBloodPressure                   int64\nTricepsSkinFoldThickness        int64\nSerumInsulin                    int64\nBodyMassIndex                 float64\nDiabetesPedigree              float64\nAge                             int64\nClass                           int64\ndtype: object\n       PregnantTimes  PlasmaGlucoseConcentration  BloodPressure  \\\ncount     768.000000                  768.000000     768.000000   \nmean        3.845052                  120.894531      69.105469   \nstd         3.369578                   31.972618      19.355807   \nmin         0.000000                    0.000000       0.000000   \n25%         1.000000                   99.000000      62.000000   \n50%         3.000000                  117.000000      72.000000   \n75%         6.000000                  140.250000      80.000000   \nmax        17.000000                  199.000000     122.000000   \n\n       TricepsSkinFoldThickness  SerumInsulin  BodyMassIndex  \\\ncount                768.000000    768.000000     768.000000   \nmean                  20.536458     79.799479      31.992578   \nstd                   15.952218    115.244002       7.884160   \nmin                    0.000000      0.000000       0.000000   \n25%                    0.000000      0.000000      27.300000   \n50%                   23.000000     30.500000      32.000000   \n75%                   32.000000    127.250000      36.600000   \nmax                   99.000000    846.000000      67.100000   \n\n       DiabetesPedigree         Age       Class  \ncount        768.000000  768.000000  768.000000  \nmean           0.471876   33.240885    0.348958  \nstd            0.331329   11.760232    0.476951  \nmin            0.078000   21.000000    0.000000  \n25%            0.243750   24.000000    0.000000  \n50%            0.372500   29.000000    0.000000  \n75%            0.626250   41.000000    1.000000  \nmax            2.420000   81.000000    1.000000  \n                            PregnantTimes  PlasmaGlucoseConcentration  \\\nPregnantTimes                    1.000000                    0.129459   \nPlasmaGlucoseConcentration       0.129459                    1.000000   \nBloodPressure                    0.141282                    0.152590   \nTricepsSkinFoldThickness        -0.081672                    0.057328   \nSerumInsulin                    -0.073535                    0.331357   \nBodyMassIndex                    0.017683                    0.221071   \nDiabetesPedigree                -0.033523                    0.137337   \nAge                              0.544341                    0.263514   \nClass                            0.221898                    0.466581   \n\n                            BloodPressure  TricepsSkinFoldThickness  \\\nPregnantTimes                    0.141282                 -0.081672   \nPlasmaGlucoseConcentration       0.152590                  0.057328   \nBloodPressure                    1.000000                  0.207371   \nTricepsSkinFoldThickness         0.207371                  1.000000   \nSerumInsulin                     0.088933                  0.436783   \nBodyMassIndex                    0.281805                  0.392573   \nDiabetesPedigree                 0.041265                  0.183928   \nAge                              0.239528                 -0.113970   \nClass                            0.065068                  0.074752   \n\n                            SerumInsulin  BodyMassIndex  DiabetesPedigree  \\\nPregnantTimes                  -0.073535       0.017683         -0.033523   \nPlasmaGlucoseConcentration      0.331357       0.221071          0.137337   \nBloodPressure                   0.088933       0.281805          0.041265   \nTricepsSkinFoldThickness        0.436783       0.392573          0.183928   \nSerumInsulin                    1.000000       0.197859          0.185071   \nBodyMassIndex                   0.197859       1.000000          0.140647   \nDiabetesPedigree                0.185071       0.140647          1.000000   \nAge                            -0.042163       0.036242          0.033561   \nClass                           0.130548       0.292695          0.173844   \n\n                                 Age     Class  \nPregnantTimes               0.544341  0.221898  \nPlasmaGlucoseConcentration  0.263514  0.466581  \nBloodPressure               0.239528  0.065068  \nTricepsSkinFoldThickness   -0.113970  0.074752  \nSerumInsulin               -0.042163  0.130548  \nBodyMassIndex               0.036242  0.292695  \nDiabetesPedigree            0.033561  0.173844  \nAge                         1.000000  0.238356  \nClass                       0.238356  1.000000  \n----------\nClass                         1.000000\nPlasmaGlucoseConcentration    0.466581\nBodyMassIndex                 0.292695\nAge                           0.238356\nPregnantTimes                 0.221898\nDiabetesPedigree              0.173844\nSerumInsulin                  0.130548\nTricepsSkinFoldThickness      0.074752\nBloodPressure                 0.065068\nName: Class, dtype: float64\n"
     ]
    }
   ],
   "source": [
    "# Understand data with descriptive statistics\n",
    "if isDebug:\n",
    "    # Understand your data using the head() function to look at the first few rows.\n",
    "    print(data.head())\n",
    "    # Review the dimensions of your data with the shape property.\n",
    "    print(data.shape)\n",
    "    # Look at the data types for each attribute with the dtypes property.\n",
    "    print(data.dtypes)\n",
    "    # Review the distribution of your data with the describe() function.\n",
    "    print(data.describe())\n",
    "    # Calculate pairwise correlation between your variables using the corr() function.\n",
    "    print(data.corr())\n",
    "    print(\"----------\")\n",
    "    print(data.corr()['Class'].sort_values(ascending=False))"
   ]
  },
  {
   "cell_type": "code",
   "execution_count": 32,
   "metadata": {
    "collapsed": false
   },
   "outputs": [],
   "source": [
    "# Understand data with visualization \n",
    "scatter_matrix(data)\n",
    "plt.hist(data['Age'])\n",
    "plt.show()"
   ]
  },
  {
   "cell_type": "code",
   "execution_count": 56,
   "metadata": {
    "collapsed": true
   },
   "outputs": [
    {
     "name": "stdout",
     "output_type": "stream",
     "text": [
      "[[ 0.64   0.848  0.15   0.907 -0.693  0.204  0.468  1.426]\n [-0.845 -1.123 -0.161  0.531 -0.693 -0.684 -0.365 -0.191]]\n[[ 0.034  0.828  0.403  0.196  0.     0.188  0.004  0.28 ]\n [ 0.008  0.716  0.556  0.244  0.     0.224  0.003  0.261]]\n"
     ]
    }
   ],
   "source": [
    "# Prepare For Modeling by Pre-Processing Data\n",
    "array = data.values\n",
    "# Separate array into input ant output components\n",
    "X = array[:, 0:8]\n",
    "Y = array[:, 8]\n",
    "scaler = StandardScaler().fit(X)\n",
    "rescaledX = scaler.transform(X)\n",
    "# Summarize transformed data\n",
    "numpy.set_printoptions(precision=3)\n",
    "print(rescaledX[0:2, :])\n",
    "normalizedX = normalize(X)\n",
    "print(normalizedX[0:2,:])"
   ]
  },
  {
   "cell_type": "code",
   "execution_count": 62,
   "metadata": {},
   "outputs": [
    {
     "name": "stdout",
     "output_type": "stream",
     "text": [
      "Accuracy: 76.951% (4.841%)\nAccuracy: 77.996% (5.009%)\nAccuracy: 64.843% (7.868%)\n"
     ]
    }
   ],
   "source": [
    "# Algorithm Evaluation With Resampling Methods\n",
    "kfold = KFold(n_splits=10, random_state=7)\n",
    "model = LogisticRegression()\n",
    "results = cross_val_score(model, X, Y, cv=kfold)\n",
    "print(\"Accuracy: %.3f%% (%.3f%%)\") % (results.mean()*100.0, results.std()*100.0)\n",
    "kfold = KFold(n_splits=10, random_state=7)\n",
    "model = LogisticRegression()\n",
    "results = cross_val_score(model, rescaledX, Y, cv=kfold)\n",
    "print(\"Accuracy: %.3f%% (%.3f%%)\") % (results.mean()*100.0, results.std()*100.0)\n",
    "kfold = KFold(n_splits=10, random_state=7)\n",
    "model = LogisticRegression()\n",
    "results = cross_val_score(model, normalizedX, Y, cv=kfold)\n",
    "print(\"Accuracy: %.3f%% (%.3f%%)\") % (results.mean()*100.0, results.std()*100.0)"
   ]
  },
  {
   "cell_type": "code",
   "execution_count": 64,
   "metadata": {},
   "outputs": [
    {
     "name": "stdout",
     "output_type": "stream",
     "text": [
      "Logloss: -0.493 (0.047)\nLogloss: -0.484 (0.061)\n"
     ]
    }
   ],
   "source": [
    "# Algorithm Evaluation Metrics\n",
    "scoring = 'neg_log_loss'\n",
    "results = cross_val_score(model, X, Y, cv=kfold, scoring=scoring)\n",
    "print(\"Logloss: %.3f (%.3f)\") % (results.mean(), results.std())\n",
    "results = cross_val_score(model, rescaledX, Y, cv=kfold, scoring=scoring)\n",
    "print(\"Logloss: %.3f (%.3f)\") % (results.mean(), results.std())"
   ]
  },
  {
   "cell_type": "code",
   "execution_count": 67,
   "metadata": {},
   "outputs": [
    {
     "name": "stdout",
     "output_type": "stream",
     "text": [
      "-0.196342447027\n-0.178674641148\n"
     ]
    }
   ],
   "source": [
    "# Spot-Check Algorithms\n",
    "model = KNeighborsRegressor()\n",
    "scoring = 'neg_mean_squared_error'\n",
    "results = cross_val_score(model, X, Y, cv=kfold, scoring=scoring)\n",
    "print(results.mean())\n",
    "results = cross_val_score(model, rescaledX, Y, cv=kfold, scoring=scoring)\n",
    "print(results.mean())"
   ]
  },
  {
   "cell_type": "code",
   "execution_count": 73,
   "metadata": {},
   "outputs": [
    {
     "name": "stdout",
     "output_type": "stream",
     "text": [
      "LR: 0.769515 (0.048411)\nLDA: 0.773462 (0.051592)\n"
     ]
    }
   ],
   "source": [
    "# Model comparison and selection \n",
    "# prepare models\n",
    "models = []\n",
    "models.append(('LR', LogisticRegression()))\n",
    "models.append(('LDA', LinearDiscriminantAnalysis()))\n",
    "# evaluate each model in turn\n",
    "results = []\n",
    "names = []\n",
    "scoring = 'accuracy'\n",
    "for name, model in models:\n",
    "\tkfold = KFold(n_splits=10, random_state=7)\n",
    "\tcv_results = cross_val_score(model, X, Y, cv=kfold, scoring=scoring)\n",
    "\tresults.append(cv_results)\n",
    "\tnames.append(name)\n",
    "\tmsg = \"%s: %f (%f)\" % (name, cv_results.mean(), cv_results.std())\n",
    "\tprint(msg)"
   ]
  },
  {
   "cell_type": "code",
   "execution_count": 74,
   "metadata": {},
   "outputs": [
    {
     "name": "stdout",
     "output_type": "stream",
     "text": [
      "LR: 0.779956 (0.050088)\nLDA: 0.773462 (0.051592)\n"
     ]
    }
   ],
   "source": [
    "# Model comparison and selection \n",
    "# prepare models\n",
    "models = []\n",
    "models.append(('LR', LogisticRegression()))\n",
    "models.append(('LDA', LinearDiscriminantAnalysis()))\n",
    "# evaluate each model in turn\n",
    "results = []\n",
    "names = []\n",
    "scoring = 'accuracy'\n",
    "for name, model in models:\n",
    "\tkfold = KFold(n_splits=10, random_state=7)\n",
    "\tcv_results = cross_val_score(model, rescaledX, Y, cv=kfold, scoring=scoring)\n",
    "\tresults.append(cv_results)\n",
    "\tnames.append(name)\n",
    "\tmsg = \"%s: %f (%f)\" % (name, cv_results.mean(), cv_results.std())\n",
    "\tprint(msg)"
   ]
  },
  {
   "cell_type": "code",
   "execution_count": 76,
   "metadata": {},
   "outputs": [
    {
     "name": "stdout",
     "output_type": "stream",
     "text": [
      "0.279617559313\n1.0\n"
     ]
    }
   ],
   "source": [
    "# Improve Accuracy with Algorithm Tuning \n",
    "alphas = numpy.array([1,0.1,0.01,0.001,0.0001,0])\n",
    "param_grid = dict(alpha=alphas)\n",
    "model = Ridge()\n",
    "grid = GridSearchCV(estimator=model, param_grid=param_grid)\n",
    "grid.fit(X, Y)\n",
    "print(grid.best_score_)\n",
    "print(grid.best_estimator_.alpha)"
   ]
  },
  {
   "cell_type": "code",
   "execution_count": 78,
   "metadata": {},
   "outputs": [
    {
     "name": "stdout",
     "output_type": "stream",
     "text": [
      "0.765516062884\n"
     ]
    }
   ],
   "source": [
    "# Improve Accuracy with Ensemble Predictions\n",
    "num_trees = 100\n",
    "max_features = 3\n",
    "kfold = KFold(n_splits=10, random_state=7)\n",
    "model = RandomForestClassifier(n_estimators=num_trees, max_features=max_features)\n",
    "results = cross_val_score(model, X, Y, cv=kfold)\n",
    "print(results.mean())"
   ]
  },
  {
   "cell_type": "code",
   "execution_count": null,
   "metadata": {},
   "outputs": [],
   "source": [
    "# Finalize And Save Your Model\n"
   ]
  }
 ],
 "metadata": {
  "kernelspec": {
   "display_name": "Python 2",
   "language": "python",
   "name": "python2"
  },
  "language_info": {
   "codemirror_mode": {
    "name": "ipython",
    "version": 2.0
   },
   "file_extension": ".py",
   "mimetype": "text/x-python",
   "name": "python",
   "nbconvert_exporter": "python",
   "pygments_lexer": "ipython2",
   "version": "2.7.13"
  }
 },
 "nbformat": 4,
 "nbformat_minor": 0
}